{
 "cells": [
  {
   "cell_type": "markdown",
   "metadata": {},
   "source": [
    "**Python Homework 1**"
   ]
  },
  {
   "cell_type": "code",
   "execution_count": 27,
   "metadata": {},
   "outputs": [
    {
     "name": "stdout",
     "output_type": "stream",
     "text": [
      " Data1 value: 120 \n",
      " Data2 value: 250.9 \n",
      " Data3 value: Hasan \n",
      " Data4 value: {4.5, 7, 8, 'Mehmet', 'Emir'} \n",
      " Data5 value: [1, 2, 3, 4, 5]\n",
      "--------------------------------------------\n",
      " Data1 type:<class 'int'> \n",
      " Data2 type:<class 'float'> \n",
      " Data3 type:<class 'str'> \n",
      " Data4 type:<class 'set'> \n",
      " Data5 type:<class 'list'>\n"
     ]
    }
   ],
   "source": [
    "data1 = 120\n",
    "data2 = 250.9\n",
    "data3 = \"Hasan\"\n",
    "data4 = {\"Mehmet\",7,8,4.5,\"Emir\"}\n",
    "data5 = [1,2,3,4,5] \n",
    "print(f' Data1 value: {data1} \\n Data2 value: {data2} \\n Data3 value: {data3} \\n Data4 value: {data4} \\n Data5 value: {data5}')\n",
    "print(\"--------------------------------------------\")\n",
    "print(\" Data1 type:{} \\n Data2 type:{} \\n Data3 type:{} \\n Data4 type:{} \\n Data5 type:{}\".format(type(data1), type(data2), type(data3), type(data4), type(data5)))"
   ]
  },
  {
   "cell_type": "code",
   "execution_count": null,
   "metadata": {},
   "outputs": [],
   "source": []
  }
 ],
 "metadata": {
  "kernelspec": {
   "display_name": "Python 3",
   "language": "python",
   "name": "python3"
  },
  "language_info": {
   "codemirror_mode": {
    "name": "ipython",
    "version": 3
   },
   "file_extension": ".py",
   "mimetype": "text/x-python",
   "name": "python",
   "nbconvert_exporter": "python",
   "pygments_lexer": "ipython3",
   "version": "3.8.3"
  }
 },
 "nbformat": 4,
 "nbformat_minor": 4
}
