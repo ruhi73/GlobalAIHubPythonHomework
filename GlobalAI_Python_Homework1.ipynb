{
 "cells": [
  {
   "cell_type": "code",
   "execution_count": 6,
   "metadata": {},
   "outputs": [
    {
     "name": "stdout",
     "output_type": "stream",
     "text": [
      "Please enter 1. value: Ruhi\n",
      "Please enter 2. value: Ermişoğlu\n",
      "Please enter 3. value: 34\n",
      "Please enter 4. value: 67\n",
      "Please enter 5. value: [32,43,67]\n",
      " 1. value: Ruhi \n",
      " 2. value: Ermişoğlu \n",
      " 3. value: 34 \n",
      " 4. value: 67 \n",
      " 5. value: [32,43,67]\n",
      "------------------------\n",
      " 1. type:<class 'str'> \n",
      " 2. type:<class 'str'> \n",
      " 3. type:<class 'str'> \n",
      " 4. type:<class 'str'> \n",
      " 5. type:<class 'str'>\n"
     ]
    }
   ],
   "source": [
    "liste =[]\n",
    "for i in range(5):\n",
    "    x = input(\"Please enter 1. value: \")\n",
    "    liste.append(x)\n",
    "    y = input(\"Please enter 2. value: \") \n",
    "    liste.append(y)\n",
    "    z = input(\"Please enter 3. value: \")\n",
    "    liste.append(z)\n",
    "    t = input(\"Please enter 4. value: \")\n",
    "    liste.append(t)\n",
    "    v = input(\"Please enter 5. value: \")\n",
    "    liste.append(t)\n",
    "    break\n",
    "print(f' 1. value: {x} \\n 2. value: {y} \\n 3. value: {z} \\n 4. value: {t} \\n 5. value: {v}')\n",
    "print(\"------------------------\")\n",
    "print(\" 1. type:{} \\n 2. type:{} \\n 3. type:{} \\n 4. type:{} \\n 5. type:{}\".format(type(x), type(y), type(z), type(t), type(v)))"
   ]
  },
  {
   "cell_type": "code",
   "execution_count": null,
   "metadata": {},
   "outputs": [],
   "source": []
  }
 ],
 "metadata": {
  "kernelspec": {
   "display_name": "Python 3",
   "language": "python",
   "name": "python3"
  },
  "language_info": {
   "codemirror_mode": {
    "name": "ipython",
    "version": 3
   },
   "file_extension": ".py",
   "mimetype": "text/x-python",
   "name": "python",
   "nbconvert_exporter": "python",
   "pygments_lexer": "ipython3",
   "version": "3.8.3"
  }
 },
 "nbformat": 4,
 "nbformat_minor": 4
}
