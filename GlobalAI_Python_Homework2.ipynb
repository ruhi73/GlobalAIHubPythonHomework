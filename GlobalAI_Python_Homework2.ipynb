{
 "cells": [
  {
   "cell_type": "code",
   "execution_count": 1,
   "metadata": {},
   "outputs": [
    {
     "name": "stdout",
     "output_type": "stream",
     "text": [
      "Please enter First name: Ruhi\n",
      "Please enter Last name: Ermişoğlu\n",
      "Please enter Age: 47\n",
      "Please enter Date of birth: 1973\n",
      "You can go out to the street.\n",
      "['Ruhi', 'Ermişoğlu', 47, 1973]\n"
     ]
    }
   ],
   "source": [
    "liste =[]\n",
    "for i in range(4):\n",
    "    x = input(\"Please enter First name: \")\n",
    "    liste.append(x)\n",
    "    y = input(\"Please enter Last name: \") \n",
    "    liste.append(y)\n",
    "    z = int(input(\"Please enter Age: \"))\n",
    "    liste.append(z)\n",
    "    t = int(input(\"Please enter Date of birth: \"))\n",
    "    liste.append(t)\n",
    "    if z < 18:\n",
    "        print(\"You can't go out because it's too dangerous.\")\n",
    "    else:\n",
    "        print(\"You can go out to the street.\")\n",
    "    break\n",
    "print(liste)"
   ]
  },
  {
   "cell_type": "code",
   "execution_count": null,
   "metadata": {},
   "outputs": [],
   "source": []
  },
  {
   "cell_type": "code",
   "execution_count": null,
   "metadata": {},
   "outputs": [],
   "source": []
  }
 ],
 "metadata": {
  "kernelspec": {
   "display_name": "Python 3",
   "language": "python",
   "name": "python3"
  },
  "language_info": {
   "codemirror_mode": {
    "name": "ipython",
    "version": 3
   },
   "file_extension": ".py",
   "mimetype": "text/x-python",
   "name": "python",
   "nbconvert_exporter": "python",
   "pygments_lexer": "ipython3",
   "version": "3.8.3"
  }
 },
 "nbformat": 4,
 "nbformat_minor": 4
}
